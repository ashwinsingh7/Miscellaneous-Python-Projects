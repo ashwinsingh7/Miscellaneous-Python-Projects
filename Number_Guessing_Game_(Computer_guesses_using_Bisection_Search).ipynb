{
  "nbformat": 4,
  "nbformat_minor": 0,
  "metadata": {
    "colab": {
      "provenance": [],
      "toc_visible": true
    },
    "kernelspec": {
      "name": "python3",
      "display_name": "Python 3"
    },
    "language_info": {
      "name": "python"
    }
  },
  "cells": [
    {
      "cell_type": "markdown",
      "source": [
        "GUESSING GAME\n",
        "\n",
        "In this problem, you'll create a program that guesses a secret number!\n",
        "\n",
        "The program works as follows: you (the user) thinks of an integer between 0 (inclusive) and 100 (not inclusive). The computer makes guesses, and you give it input - is its guess too high or too low? Using bisection search, the computer will guess the user's secret number!\n",
        "\n",
        "Here is a transcript of an example session:\n",
        "\n",
        "\n",
        "\n",
        "```\n",
        "Please think of a number between 0 and 100!\n",
        "Is your secret number 50?\n",
        "Enter 'h' to indicate the guess is too high. Enter 'l' to indicate the guess is too low. Enter 'c' to indicate I guessed correctly. l\n",
        "Is your secret number 75?\n",
        "Enter 'h' to indicate the guess is too high. Enter 'l' to indicate the guess is too low. Enter 'c' to indicate I guessed correctly. l\n",
        "Is your secret number 87?\n",
        "Enter 'h' to indicate the guess is too high. Enter 'l' to indicate the guess is too low. Enter 'c' to indicate I guessed correctly. h\n",
        "Is your secret number 81?\n",
        "Enter 'h' to indicate the guess is too high. Enter 'l' to indicate the guess is too low. Enter 'c' to indicate I guessed correctly. l\n",
        "Is your secret number 84?\n",
        "Enter 'h' to indicate the guess is too high. Enter 'l' to indicate the guess is too low. Enter 'c' to indicate I guessed correctly. h\n",
        "Is your secret number 82?\n",
        "Enter 'h' to indicate the guess is too high. Enter 'l' to indicate the guess is too low. Enter 'c' to indicate I guessed correctly. l\n",
        "Is your secret number 83?\n",
        "Enter 'h' to indicate the guess is too high. Enter 'l' to indicate the guess is too low. Enter 'c' to indicate I guessed correctly. c\n",
        "Game over. Your secret number was: 83\n",
        "```\n",
        "\n"
      ],
      "metadata": {
        "id": "WdFARTlHCoGi"
      }
    },
    {
      "cell_type": "code",
      "source": [
        "#1 - Taking a user input\n",
        "\n",
        "num = int(input('Please think of a number between 0 (inclusive) and 100 (not inclusive)! '))\n",
        "\n",
        "while num not in list(range(0,100)):\n",
        "  print('Sorry, I did not understand your input.')\n",
        "  num = int(input('Please think of a number between 0 (inclusive) and 100 (not inclusive)! '))\n",
        "\n",
        "\n",
        "#2 - Using bisection search to find the number\n",
        "\n",
        "start = 0\n",
        "end = 100\n",
        "\n",
        "found = False\n",
        "\n",
        "iter = 0\n",
        "\n",
        "while found == False:\n",
        "\n",
        "  iter += 1\n",
        "  guess = int((start+end)/2)\n",
        "\n",
        "  print('Is ' + str(guess) + ' your secret number?')\n",
        "\n",
        "  feedback = input(\"Enter 'h' to indicate the guess is too high. Enter 'l' to indicate the guess is too low. Enter 'c' to indicate I guessed correctly.\" )\n",
        "\n",
        "  while feedback not in ['h','l','c']:\n",
        "    print('Sorry, I did not understand your input.')\n",
        "    feedback = input(\"Enter 'h' to indicate the guess is too high. Enter 'l' to indicate the guess is too low. Enter 'c' to indicate I guessed correctly.\" )\n",
        "\n",
        "\n",
        "  if feedback == 'c':\n",
        "    print('Game over. Your secret number was: ' + str(guess))\n",
        "    break\n",
        "\n",
        "  elif feedback == 'l':\n",
        "\n",
        "    start = guess\n",
        "\n",
        "  else:\n",
        "      end = guess"
      ],
      "metadata": {
        "colab": {
          "base_uri": "https://localhost:8080/"
        },
        "id": "sids12OtC8n-",
        "outputId": "8a26bdb4-822c-4488-efd9-9b427bd81903"
      },
      "execution_count": null,
      "outputs": [
        {
          "output_type": "stream",
          "name": "stdout",
          "text": [
            "Please think of a number between 0 (inclusive) and 100 (not inclusive)! 67\n",
            "Is 50 your secret number?\n",
            "Enter 'h' to indicate the guess is too high. Enter 'l' to indicate the guess is too low. Enter 'c' to indicate I guessed correctly.l\n",
            "Is 75 your secret number?\n",
            "Enter 'h' to indicate the guess is too high. Enter 'l' to indicate the guess is too low. Enter 'c' to indicate I guessed correctly.h\n",
            "Is 62 your secret number?\n",
            "Enter 'h' to indicate the guess is too high. Enter 'l' to indicate the guess is too low. Enter 'c' to indicate I guessed correctly.l\n",
            "Is 68 your secret number?\n",
            "Enter 'h' to indicate the guess is too high. Enter 'l' to indicate the guess is too low. Enter 'c' to indicate I guessed correctly.h\n",
            "Is 65 your secret number?\n",
            "Enter 'h' to indicate the guess is too high. Enter 'l' to indicate the guess is too low. Enter 'c' to indicate I guessed correctly.l\n",
            "Is 66 your secret number?\n",
            "Enter 'h' to indicate the guess is too high. Enter 'l' to indicate the guess is too low. Enter 'c' to indicate I guessed correctly.l\n",
            "Is 67 your secret number?\n",
            "Enter 'h' to indicate the guess is too high. Enter 'l' to indicate the guess is too low. Enter 'c' to indicate I guessed correctly.c\n",
            "Game over. Your secret number was: 67\n"
          ]
        }
      ]
    }
  ]
}