{
  "cells": [
    {
      "cell_type": "code",
      "execution_count": null,
      "id": "f3c0fd89",
      "metadata": {
        "id": "f3c0fd89"
      },
      "outputs": [],
      "source": [
        "def find_primes(num_list):\n",
        "\n",
        "  primes = []\n",
        "\n",
        "  for i in num_list:\n",
        "\n",
        "    if i == 0 or i == 1:\n",
        "      continue\n",
        "\n",
        "    elif i == 2:\n",
        "      primes.append(i)\n",
        "\n",
        "    elif i > 2:\n",
        "\n",
        "      #print(f'i is {i}')\n",
        "\n",
        "      prime = True\n",
        "\n",
        "      for j in range(2,int((i**0.5)//1 + 1)):\n",
        "\n",
        "        #print(f'j is {j}')\n",
        "\n",
        "        if i%j == 0:\n",
        "          prime = False\n",
        "        #print(prime)\n",
        "\n",
        "      if prime == True and i not in primes:\n",
        "        primes.append(i)\n",
        "        #print('appended')\n",
        "\n",
        "\n",
        "  return primes"
      ]
    },
    {
      "cell_type": "code",
      "source": [
        "l1 = [i for i in range(100)]\n",
        "\n",
        "#find_primes(l1)\n"
      ],
      "metadata": {
        "id": "p6xU0subT0IK"
      },
      "id": "p6xU0subT0IK",
      "execution_count": null,
      "outputs": []
    },
    {
      "cell_type": "code",
      "source": [
        "l = find_primes(l1)"
      ],
      "metadata": {
        "id": "LD-jcluXWi2j"
      },
      "id": "LD-jcluXWi2j",
      "execution_count": null,
      "outputs": []
    },
    {
      "cell_type": "code",
      "source": [
        "l"
      ],
      "metadata": {
        "colab": {
          "base_uri": "https://localhost:8080/"
        },
        "id": "uj7Mcj2gWuN-",
        "outputId": "057d561b-b162-4e46-e4de-238b49fc766f"
      },
      "id": "uj7Mcj2gWuN-",
      "execution_count": null,
      "outputs": [
        {
          "output_type": "execute_result",
          "data": {
            "text/plain": [
              "[2,\n",
              " 3,\n",
              " 5,\n",
              " 7,\n",
              " 11,\n",
              " 13,\n",
              " 17,\n",
              " 19,\n",
              " 23,\n",
              " 29,\n",
              " 31,\n",
              " 37,\n",
              " 41,\n",
              " 43,\n",
              " 47,\n",
              " 53,\n",
              " 59,\n",
              " 61,\n",
              " 67,\n",
              " 71,\n",
              " 73,\n",
              " 79,\n",
              " 83,\n",
              " 89,\n",
              " 97]"
            ]
          },
          "metadata": {},
          "execution_count": 41
        }
      ]
    },
    {
      "cell_type": "code",
      "source": [],
      "metadata": {
        "id": "jO6lKNZ9Wuwu"
      },
      "id": "jO6lKNZ9Wuwu",
      "execution_count": null,
      "outputs": []
    }
  ],
  "metadata": {
    "kernelspec": {
      "display_name": "Python 3 (ipykernel)",
      "language": "python",
      "name": "python3"
    },
    "language_info": {
      "codemirror_mode": {
        "name": "ipython",
        "version": 3
      },
      "file_extension": ".py",
      "mimetype": "text/x-python",
      "name": "python",
      "nbconvert_exporter": "python",
      "pygments_lexer": "ipython3",
      "version": "3.8.8"
    },
    "colab": {
      "provenance": []
    }
  },
  "nbformat": 4,
  "nbformat_minor": 5
}