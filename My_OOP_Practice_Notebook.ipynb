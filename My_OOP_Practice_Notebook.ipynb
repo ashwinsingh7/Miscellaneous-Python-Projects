{
  "cells": [
    {
      "cell_type": "markdown",
      "source": [
        "# Basics of Classes"
      ],
      "metadata": {
        "id": "f99bKj3wTUbS"
      },
      "id": "f99bKj3wTUbS"
    },
    {
      "cell_type": "code",
      "execution_count": null,
      "id": "e4b50ba0",
      "metadata": {
        "id": "e4b50ba0"
      },
      "outputs": [],
      "source": [
        "#creating an object using the class keyword\n",
        "#class name should be written in camel case by convention\n",
        "\n",
        "class AshwinSingh:\n",
        "\n",
        "    #1\n",
        "    #we define CLASS OBJECT ATTRIBUTES - these will remain constant across all instances of the object/class\n",
        "    #we do not use the self keyword as it is used as a reference to this particular instance of the class AshwinSingh,\n",
        "    #but these attributes do not vary with different instances of the class, so there is no need for self\n",
        "    '''\n",
        "    This is my first Python class, which can be used to create different versions of Ashwin Singh, who is a\n",
        "    Homo Sapien male. Hope you have fun with it :)\n",
        "    '''\n",
        "\n",
        "    species = 'Homo Sapien'\n",
        "    gender = 'male'\n",
        "    first_name = 'Ashwin'\n",
        "    surname = 'Singh'\n",
        "\n",
        "\n",
        "    #2\n",
        "    #we use the init method (a dunder method) to take in parameters and assign them as (instance) attributes\n",
        "    #to do so, we use (self.attribute_name = parameter) syntax\n",
        "    #the convention is to use the same name for attribute_name and parameter\n",
        "    #note that these are attributes of the INSTANCE, i.e., they may vary depending on the user input\n",
        "    #the self keyword is used here as as a reference to this particular instance of the class AshwinSingh\n",
        "\n",
        "    def __init__(self,age,height,nationality,favourite_colour):\n",
        "\n",
        "        '''\n",
        "        INPUT:\n",
        "        age - int\n",
        "        height - string describing height in feet and inches\n",
        "        nationality - string\n",
        "        favourite colour - string\n",
        "        '''\n",
        "\n",
        "\n",
        "        self.age = age\n",
        "        self.height = height\n",
        "        self.nationality = nationality\n",
        "        self.favourite_colour = favourite_colour\n",
        "\n",
        "        #we can also assign attributes which operate on the inputs set by the user\n",
        "        self.age_next_year = age+1\n",
        "\n",
        "\n",
        "    #3\n",
        "    #operations/actions >>> AKA methods (these are simply functions defined within a class)\n",
        "    #by using self, we connect this method to the object instance\n",
        "\n",
        "    #methods are essentially functions defined inside the body of a class and are\n",
        "    #used to perform operations that often utilise the attributes which we have created\n",
        "\n",
        "    #the key difference b/w attributes and methods lies in how you call them:\n",
        "    #attribute call - var_name.attribute_name\n",
        "    #method call - var_name.method_name() - we use () at the end because methods need to be executed\n",
        "\n",
        "\n",
        "    def greeting(self):\n",
        "        '''\n",
        "        INPUT: no input necessary\n",
        "        OUTPUT: prints a simple greeting\n",
        "        '''\n",
        "        print('Hello!')\n",
        "\n",
        "    #now we define a method which takes an argument from the user\n",
        "\n",
        "    def laugh(self,number=3):\n",
        "        '''\n",
        "        INPUT: an int equivalent to the number of times you want Ashwin to laugh\n",
        "        '''\n",
        "        print('HAHA'*number + '!!!')\n",
        "\n",
        "    def weather(self,weather_outside = 'rainy'):\n",
        "        '''\n",
        "        INPUT: a string decribing the weather outside\n",
        "        '''\n",
        "        print(f'Looks like it is {weather_outside} today!')\n",
        "\n",
        "    #now we reference some attributes (of the class and of the instance) as part of a method\n",
        "    #notice that we reference an instance attribute using self.attribute_name, and\n",
        "    #a class object atrribute is referenced using object/class_name.attribute_name or self.attribute_name\n",
        "\n",
        "\n",
        "    #object/class_name.attribute_name seems more useful as it lets us know that the attribute is a class object\n",
        "    #attribute and not an instance attribute\n",
        "\n",
        "\n",
        "    def intro(self,name_of_person):\n",
        "        '''\n",
        "        INPUT: name of the person Ashwin is introducing himself to\n",
        "        OUTPUT: prints how Ashwin will introduce himself to a person\n",
        "        '''\n",
        "        print(f\"Hello {name_of_person}, nice to meet you! My name is {AshwinSingh.first_name}, I am a {self.height} tall {self.species} {AshwinSingh.gender}.\")\n",
        "        print(f\"I am {self.age} years old, I am {self.nationality} and my favourite colour is {self.favourite_colour}!\\n\")\n",
        "        print(\"That's enough about me, I would love to know more about you!\")\n"
      ]
    },
    {
      "cell_type": "code",
      "execution_count": null,
      "id": "89ce668a",
      "metadata": {
        "id": "89ce668a"
      },
      "outputs": [],
      "source": [
        "var = AshwinSingh(22,\"5 feet 6 inches\",'Indian','Green')"
      ]
    },
    {
      "cell_type": "code",
      "execution_count": null,
      "id": "dbdd01e8",
      "metadata": {
        "colab": {
          "base_uri": "https://localhost:8080/"
        },
        "id": "dbdd01e8",
        "outputId": "16aeece3-3c67-4409-f1e3-a6754fff1a2c"
      },
      "outputs": [
        {
          "output_type": "execute_result",
          "data": {
            "text/plain": [
              "__main__.AshwinSingh"
            ]
          },
          "metadata": {},
          "execution_count": 3
        }
      ],
      "source": [
        "type(var)"
      ]
    },
    {
      "cell_type": "code",
      "source": [
        "help(var)"
      ],
      "metadata": {
        "colab": {
          "base_uri": "https://localhost:8080/"
        },
        "id": "88T3RviT1BIE",
        "outputId": "b266ba32-afea-406f-d9b5-0dadcf12d38a"
      },
      "id": "88T3RviT1BIE",
      "execution_count": null,
      "outputs": [
        {
          "output_type": "stream",
          "name": "stdout",
          "text": [
            "Help on AshwinSingh in module __main__ object:\n",
            "\n",
            "class AshwinSingh(builtins.object)\n",
            " |  AshwinSingh(age, height, nationality, favourite_colour)\n",
            " |  \n",
            " |  This is my first Python class, which can be used to create different versions of Ashwin Singh, who is a \n",
            " |  Homo Sapien male. Hope you have fun with it :)\n",
            " |  \n",
            " |  Methods defined here:\n",
            " |  \n",
            " |  __init__(self, age, height, nationality, favourite_colour)\n",
            " |      INPUT:\n",
            " |      age - int\n",
            " |      height - string describing height in feet and inches\n",
            " |      nationality - string\n",
            " |      favourite colour - string\n",
            " |  \n",
            " |  greeting(self)\n",
            " |      INPUT: no input necessary\n",
            " |      OUTPUT: prints a simple greeting\n",
            " |  \n",
            " |  intro(self, name_of_person)\n",
            " |      INPUT: name of the person Ashwin is introducing himself to\n",
            " |      OUTPUT: prints how Ashwin will introduce himself to a person\n",
            " |  \n",
            " |  laugh(self, number=3)\n",
            " |      INPUT: an int equivalent to the number of times you want Ashwin to laugh\n",
            " |  \n",
            " |  weather(self, weather_outside='rainy')\n",
            " |      INPUT: a string decribing the weather outside\n",
            " |  \n",
            " |  ----------------------------------------------------------------------\n",
            " |  Data descriptors defined here:\n",
            " |  \n",
            " |  __dict__\n",
            " |      dictionary for instance variables (if defined)\n",
            " |  \n",
            " |  __weakref__\n",
            " |      list of weak references to the object (if defined)\n",
            " |  \n",
            " |  ----------------------------------------------------------------------\n",
            " |  Data and other attributes defined here:\n",
            " |  \n",
            " |  first_name = 'Ashwin'\n",
            " |  \n",
            " |  gender = 'male'\n",
            " |  \n",
            " |  species = 'Homo Sapien'\n",
            " |  \n",
            " |  surname = 'Singh'\n",
            "\n"
          ]
        }
      ]
    },
    {
      "cell_type": "code",
      "source": [
        "var??\n"
      ],
      "metadata": {
        "id": "5QxdcfIl15o4"
      },
      "id": "5QxdcfIl15o4",
      "execution_count": null,
      "outputs": []
    },
    {
      "cell_type": "code",
      "execution_count": null,
      "id": "14e36923",
      "metadata": {
        "id": "14e36923"
      },
      "outputs": [],
      "source": [
        "#new attributes can also be created on the fly\n",
        "var.hobby = 'soccer'"
      ]
    },
    {
      "cell_type": "code",
      "execution_count": null,
      "id": "4b723402",
      "metadata": {
        "id": "4b723402"
      },
      "outputs": [],
      "source": [
        "var."
      ]
    },
    {
      "cell_type": "code",
      "execution_count": null,
      "id": "d772e5ca",
      "metadata": {
        "colab": {
          "base_uri": "https://localhost:8080/"
        },
        "id": "d772e5ca",
        "outputId": "4f01b89f-c5bf-4851-c2f9-83e21308f7d0"
      },
      "outputs": [
        {
          "output_type": "execute_result",
          "data": {
            "text/plain": [
              "22"
            ]
          },
          "metadata": {},
          "execution_count": 6
        }
      ],
      "source": [
        "var.age"
      ]
    },
    {
      "cell_type": "code",
      "execution_count": null,
      "id": "d90027ff",
      "metadata": {
        "id": "d90027ff"
      },
      "outputs": [],
      "source": [
        "var.height?\n"
      ]
    },
    {
      "cell_type": "code",
      "execution_count": null,
      "id": "636ef891",
      "metadata": {
        "colab": {
          "base_uri": "https://localhost:8080/",
          "height": 35
        },
        "id": "636ef891",
        "outputId": "dc5f14ec-4b4b-4ff3-a5c1-164b344dab68"
      },
      "outputs": [
        {
          "output_type": "execute_result",
          "data": {
            "text/plain": [
              "'Indian'"
            ],
            "application/vnd.google.colaboratory.intrinsic+json": {
              "type": "string"
            }
          },
          "metadata": {},
          "execution_count": 8
        }
      ],
      "source": [
        "var.nationality"
      ]
    },
    {
      "cell_type": "code",
      "execution_count": null,
      "id": "cbec4863",
      "metadata": {
        "colab": {
          "base_uri": "https://localhost:8080/",
          "height": 35
        },
        "id": "cbec4863",
        "outputId": "33a40d0e-a851-4f51-f2bb-d515b72fd9e2"
      },
      "outputs": [
        {
          "output_type": "execute_result",
          "data": {
            "text/plain": [
              "'Green'"
            ],
            "application/vnd.google.colaboratory.intrinsic+json": {
              "type": "string"
            }
          },
          "metadata": {},
          "execution_count": 9
        }
      ],
      "source": [
        "var.favourite_colour"
      ]
    },
    {
      "cell_type": "code",
      "execution_count": null,
      "id": "b5deacf4",
      "metadata": {
        "colab": {
          "base_uri": "https://localhost:8080/"
        },
        "id": "b5deacf4",
        "outputId": "55d2f2b3-1e4e-49fa-857c-963b0ab66a6c"
      },
      "outputs": [
        {
          "output_type": "stream",
          "name": "stdout",
          "text": [
            "Hello Kuldeep, nice to meet you! My name is Ashwin, I am a 5 feet 6 inches tall Homo Sapien male.\n",
            "I am 22 years old, I am Indian and my favourite colour is Green!\n",
            "\n",
            "That's enough about me, I would love to know more about you!\n"
          ]
        }
      ],
      "source": [
        "var.intro('Kuldeep')"
      ]
    },
    {
      "cell_type": "code",
      "execution_count": null,
      "id": "0e114664",
      "metadata": {
        "colab": {
          "base_uri": "https://localhost:8080/"
        },
        "id": "0e114664",
        "outputId": "32f6153b-00fb-4429-b7fb-8ea3bbbc1045"
      },
      "outputs": [
        {
          "output_type": "stream",
          "name": "stdout",
          "text": [
            "HAHA!!!\n",
            "HAHAHAHAHAHA!!!\n"
          ]
        }
      ],
      "source": [
        "var.laugh(1)\n",
        "var.laugh()"
      ]
    },
    {
      "cell_type": "code",
      "execution_count": null,
      "id": "2976925f",
      "metadata": {
        "colab": {
          "base_uri": "https://localhost:8080/"
        },
        "id": "2976925f",
        "outputId": "0278cdce-0936-42c2-88aa-1e39bed8c0e7"
      },
      "outputs": [
        {
          "output_type": "stream",
          "name": "stdout",
          "text": [
            "Looks like it is cloudy today!\n",
            "Looks like it is rainy today!\n"
          ]
        }
      ],
      "source": [
        "var.weather('cloudy')\n",
        "var.weather()"
      ]
    },
    {
      "cell_type": "code",
      "execution_count": null,
      "id": "170a910e",
      "metadata": {
        "colab": {
          "base_uri": "https://localhost:8080/"
        },
        "id": "170a910e",
        "outputId": "ebccb98a-3a9b-4f4e-efa9-0b812a08ecae"
      },
      "outputs": [
        {
          "output_type": "execute_result",
          "data": {
            "text/plain": [
              "['__class__',\n",
              " '__delattr__',\n",
              " '__dict__',\n",
              " '__dir__',\n",
              " '__doc__',\n",
              " '__eq__',\n",
              " '__format__',\n",
              " '__ge__',\n",
              " '__getattribute__',\n",
              " '__gt__',\n",
              " '__hash__',\n",
              " '__init__',\n",
              " '__init_subclass__',\n",
              " '__le__',\n",
              " '__lt__',\n",
              " '__module__',\n",
              " '__ne__',\n",
              " '__new__',\n",
              " '__reduce__',\n",
              " '__reduce_ex__',\n",
              " '__repr__',\n",
              " '__setattr__',\n",
              " '__sizeof__',\n",
              " '__str__',\n",
              " '__subclasshook__',\n",
              " '__weakref__',\n",
              " 'age',\n",
              " 'age_next_year',\n",
              " 'favourite_colour',\n",
              " 'first_name',\n",
              " 'gender',\n",
              " 'greeting',\n",
              " 'height',\n",
              " 'hobby',\n",
              " 'intro',\n",
              " 'laugh',\n",
              " 'nationality',\n",
              " 'species',\n",
              " 'surname',\n",
              " 'weather']"
            ]
          },
          "metadata": {},
          "execution_count": 11
        }
      ],
      "source": [
        "dir(var)"
      ]
    },
    {
      "cell_type": "code",
      "source": [],
      "metadata": {
        "id": "I2PckNDcTcQH"
      },
      "id": "I2PckNDcTcQH",
      "execution_count": null,
      "outputs": []
    },
    {
      "cell_type": "markdown",
      "source": [
        "# Intermediate - Inheritance and Polymorphism"
      ],
      "metadata": {
        "id": "_tsO_ZTQTc41"
      },
      "id": "_tsO_ZTQTc41"
    },
    {
      "cell_type": "code",
      "execution_count": null,
      "id": "3ef7dde2",
      "metadata": {
        "id": "3ef7dde2"
      },
      "outputs": [],
      "source": [
        "#INHERITANCE - a way of creating new classes/objects using classes/objects that have already been defined\n",
        "#it is useful because it gives us the ability to reuse code that we have already worked on, and, it reduces\n",
        "#the complexity of a program\n",
        "\n",
        "#1\n",
        "#we create a base class (which, in this case, doesn't take any arguments from the user)\n",
        "\n",
        "class Animal:\n",
        "\n",
        "    organism_type = 'animal'\n",
        "\n",
        "    def __init__(self):\n",
        "        '''\n",
        "        INPUT: enter the desired animal type in string format\n",
        "        you can choose between - mammal, bird, amphibian, reptile, fish, insect/invertebrates\n",
        "        '''\n",
        "\n",
        "        print('An animal has been created!')\n",
        "\n",
        "    def whoAmI(self):\n",
        "        print(\"I am an animal :)\")\n",
        "\n",
        "    def eat(self):\n",
        "        print(\"I am eating\")\n",
        "\n",
        "\n",
        "#2\n",
        "#now we try to create a new class which can inherit the methods of the base class (Animal())\n",
        "#we can imagine that this would be useful if we want to create a class which will benefit from the ability\n",
        "#to use elements of the pre-defined base class\n",
        "\n",
        "#syntax - class derived_class(base_class)\n",
        "\n",
        "class SnowLeopard(Animal):\n",
        "\n",
        "    animal_type = 'mammal'\n",
        "\n",
        "    def __init__(self,name,age,sex,location,healthy):\n",
        "\n",
        "        Animal.__init__(self)\n",
        "\n",
        "        print(f'The animal is a snow leopard, which is a {SnowLeopard.animal_type}!.')\n",
        "\n",
        "        self.name = name\n",
        "        self.age = age\n",
        "        self.sex = sex\n",
        "        self.location = location\n",
        "        self.healthy = healthy\n",
        "\n",
        "    #we can rewrite the methods of the base class, as done below\n",
        "\n",
        "    def whoAmI(self):\n",
        "        print(f'Hi, my name is {self.name}. I am a snow leopard, which is a type of {SnowLeopard.animal_type}.\\nI am {self.age} years old and I live in {self.location}.')\n",
        "\n",
        "    def growl(self):\n",
        "        print('GRRRRRRRRRRR!!!')\n",
        "\n",
        "    def hungry(self):\n",
        "        print('Time to go hunting!')\n",
        "\n",
        "    def is_healthy(self):\n",
        "\n",
        "        if self.healthy:\n",
        "            print(f'Yes, {self.name} is a healthy snow leopard :)')\n",
        "        else:\n",
        "            print(f'No, {self.name} is not a healthy snow leopard :(')\n",
        "\n",
        "\n",
        "#Q1 if we run the base class with some arguments (which form the instance attributes), then are those instance\n",
        "#attributes accessible in the base class? For eg. in the above example, while calling the init method for SnowLeopard,\n",
        "#I have called the Animal class with 'mammal' argument, so how can I access 'mammal'\n",
        "#(one way may be to take it as an argument while calling SnowLeopard)\n",
        "\n",
        "#\n"
      ]
    },
    {
      "cell_type": "code",
      "execution_count": null,
      "id": "8d9b1349",
      "metadata": {
        "colab": {
          "base_uri": "https://localhost:8080/"
        },
        "id": "8d9b1349",
        "outputId": "3095e82e-bd58-4e55-beb4-ac598741194b"
      },
      "outputs": [
        {
          "output_type": "stream",
          "name": "stdout",
          "text": [
            "An animal has been created!\n"
          ]
        }
      ],
      "source": [
        "myanimal = Animal()"
      ]
    },
    {
      "cell_type": "code",
      "execution_count": null,
      "id": "5aa52328",
      "metadata": {
        "colab": {
          "base_uri": "https://localhost:8080/"
        },
        "id": "5aa52328",
        "outputId": "9bd54556-8e68-47cf-eca5-6e50e37b519b"
      },
      "outputs": [
        {
          "output_type": "stream",
          "name": "stdout",
          "text": [
            "I am an animal :)\n"
          ]
        }
      ],
      "source": [
        "myanimal.whoAmI()"
      ]
    },
    {
      "cell_type": "code",
      "execution_count": null,
      "id": "6387fe93",
      "metadata": {
        "colab": {
          "base_uri": "https://localhost:8080/"
        },
        "id": "6387fe93",
        "outputId": "723ddf82-41ce-4202-f432-e53affd68ac7"
      },
      "outputs": [
        {
          "output_type": "stream",
          "name": "stdout",
          "text": [
            "An animal has been created!\n",
            "The animal is a snow leopard, which is a mammal!.\n"
          ]
        }
      ],
      "source": [
        "mypet = SnowLeopard('Zack',10,'male','Kazakasthan',True)"
      ]
    },
    {
      "cell_type": "code",
      "execution_count": null,
      "id": "2ae9478a",
      "metadata": {
        "colab": {
          "base_uri": "https://localhost:8080/"
        },
        "id": "2ae9478a",
        "outputId": "21c40bb9-7257-443f-ca18-29dca01b48a2"
      },
      "outputs": [
        {
          "output_type": "stream",
          "name": "stdout",
          "text": [
            "Hi, my name is Zack. I am a snow leopard, which is a type of mammal.\n",
            "I am 10 years old and I live in Kazakasthan.\n"
          ]
        }
      ],
      "source": [
        "mypet.whoAmI()"
      ]
    },
    {
      "cell_type": "code",
      "execution_count": null,
      "id": "012804fc",
      "metadata": {
        "colab": {
          "base_uri": "https://localhost:8080/"
        },
        "id": "012804fc",
        "outputId": "5c22758d-8aa0-4ec2-a0d5-3532cee0a9db"
      },
      "outputs": [
        {
          "output_type": "stream",
          "name": "stdout",
          "text": [
            "I am eating\n"
          ]
        }
      ],
      "source": [
        "mypet.eat()"
      ]
    },
    {
      "cell_type": "code",
      "execution_count": null,
      "id": "4641b427",
      "metadata": {
        "colab": {
          "base_uri": "https://localhost:8080/"
        },
        "id": "4641b427",
        "outputId": "f19bc3f5-3b2c-4653-9af1-0488880bb4f8"
      },
      "outputs": [
        {
          "output_type": "stream",
          "name": "stdout",
          "text": [
            "GRRRRRRRRRRR!!!\n"
          ]
        }
      ],
      "source": [
        "mypet.growl()"
      ]
    },
    {
      "cell_type": "code",
      "execution_count": null,
      "id": "8c537dd7",
      "metadata": {
        "colab": {
          "base_uri": "https://localhost:8080/"
        },
        "id": "8c537dd7",
        "outputId": "11e4741f-c5fb-4502-d010-67f9c1d03bc1"
      },
      "outputs": [
        {
          "output_type": "stream",
          "name": "stdout",
          "text": [
            "Time to go hunting!\n"
          ]
        }
      ],
      "source": [
        "mypet.hungry()"
      ]
    },
    {
      "cell_type": "code",
      "execution_count": null,
      "id": "f59abf5c",
      "metadata": {
        "colab": {
          "base_uri": "https://localhost:8080/"
        },
        "id": "f59abf5c",
        "outputId": "50bbd83e-b435-48ae-8bff-6df94754ae13"
      },
      "outputs": [
        {
          "output_type": "stream",
          "name": "stdout",
          "text": [
            "Yes, Zack is a healthy snow leopard :)\n"
          ]
        }
      ],
      "source": [
        "mypet.is_healthy()"
      ]
    },
    {
      "cell_type": "code",
      "execution_count": null,
      "id": "57625034",
      "metadata": {
        "colab": {
          "base_uri": "https://localhost:8080/"
        },
        "id": "57625034",
        "outputId": "9f8109d7-697d-4464-9f92-284a21baaf98"
      },
      "outputs": [
        {
          "output_type": "stream",
          "name": "stdout",
          "text": [
            "Niko says Woof!\n",
            "Felix says Meow!\n"
          ]
        }
      ],
      "source": [
        "#POLYMORPHISM - refers to the way in which different object classes can share the same method name(s)\n",
        "#these (common) method names will give different outputs depending on the class they are being called with\n",
        "\n",
        "\n",
        "#in the example below, speak is a method which is common to both the Dog and Cat classes\n",
        "#when the speak method is called, the output depends on the class it's being called with\n",
        "\n",
        "class Dog:\n",
        "    def __init__(self, name):\n",
        "        self.name = name\n",
        "\n",
        "    def speak(self):\n",
        "        return self.name + ' says Woof!'\n",
        "\n",
        "class Cat:\n",
        "    def __init__(self, name):\n",
        "        self.name = name\n",
        "\n",
        "    def speak(self):\n",
        "        return self.name + ' says Meow!'\n",
        "\n",
        "niko = Dog('Niko')\n",
        "felix = Cat('Felix')\n",
        "\n",
        "print(niko.speak())\n",
        "print(felix.speak())"
      ]
    },
    {
      "cell_type": "code",
      "source": [],
      "metadata": {
        "id": "pl-NmamGTmz1"
      },
      "id": "pl-NmamGTmz1",
      "execution_count": null,
      "outputs": []
    },
    {
      "cell_type": "markdown",
      "source": [
        "# Abstract Classes and Dunder/Magic Methods"
      ],
      "metadata": {
        "id": "TynAtkP0TnUf"
      },
      "id": "TynAtkP0TnUf"
    },
    {
      "cell_type": "code",
      "execution_count": null,
      "id": "0097241d",
      "metadata": {
        "colab": {
          "base_uri": "https://localhost:8080/"
        },
        "id": "0097241d",
        "outputId": "1f73a0e9-b7a2-4a27-a199-9456576dda99"
      },
      "outputs": [
        {
          "output_type": "stream",
          "name": "stdout",
          "text": [
            "Fido says Woof!\n",
            "Isis says Meow!\n"
          ]
        }
      ],
      "source": [
        "#ABSTRACT CLASSES AND INHERITANCE\n",
        "#A more common practice is to use abstract classes and inheritance.\n",
        "#An abstract class is one that is never expected to be instantiated.\n",
        "#For example, we will never have an Animal object, only Dog and Cat objects, although Dog and Cat are\n",
        "#derived from Animal\n",
        "\n",
        "class Animal:\n",
        "    def __init__(self, name):    # Constructor of the class\n",
        "        self.name = name\n",
        "\n",
        "    def speak(self):              # Abstract method, defined by convention only\n",
        "        raise NotImplementedError(\"Subclass must implement abstract method\")\n",
        "\n",
        "        #why do we raise an error?\n",
        "        #it's because we have created Animal as an abstract class, i.e., one that is never expected to be instantiated\n",
        "        #so we intend to overwrite the speak method whenever a derived class inherits the Animal base class\n",
        "\n",
        "\n",
        "class Dog(Animal):\n",
        "\n",
        "    def speak(self):\n",
        "        return self.name+' says Woof!'\n",
        "\n",
        "class Cat(Animal):\n",
        "\n",
        "    def speak(self):\n",
        "        return self.name+' says Meow!'\n",
        "\n",
        "fido = Dog('Fido')\n",
        "isis = Cat('Isis')\n",
        "\n",
        "print(fido.speak())\n",
        "print(isis.speak())"
      ]
    },
    {
      "cell_type": "code",
      "execution_count": null,
      "id": "b0c8f89d",
      "metadata": {
        "colab": {
          "base_uri": "https://localhost:8080/"
        },
        "id": "b0c8f89d",
        "outputId": "c79c960f-b907-4a10-afa5-ef5301e4d4ba"
      },
      "outputs": [
        {
          "output_type": "execute_result",
          "data": {
            "text/plain": [
              "<__main__.Dog at 0x7f37870c4070>"
            ]
          },
          "metadata": {},
          "execution_count": 24
        }
      ],
      "source": [
        "fido"
      ]
    },
    {
      "cell_type": "code",
      "execution_count": null,
      "id": "119aa0d1",
      "metadata": {
        "colab": {
          "base_uri": "https://localhost:8080/"
        },
        "id": "119aa0d1",
        "outputId": "10d6d5ab-1ad8-4e26-d9b4-7b25fd22fa5f"
      },
      "outputs": [
        {
          "output_type": "stream",
          "name": "stdout",
          "text": [
            "A book is created\n",
            "Title: Python Rocks! , author: Jose Portilla, pages: 159\n",
            "159\n",
            "Title: Python Rocks! , author: Jose Portilla, pages: 159\n",
            "The book 'Python Rocks!' by Jose Portilla has been destroyed\n"
          ]
        }
      ],
      "source": [
        "#SPECIAL/MAGIC/DUNDER METHODS\n",
        "#incorporating these builtin Python functions into your class allows the class to be called with these functions\n",
        "#(which won't be possible unless we include these methods in the class description)\n",
        "#difference b/w normal methods and dunder methods >>> methods need to be called as class_variable.method_name()\n",
        "#while dunder methods are called as functions > dunder_method_name(class_variable)\n",
        "\n",
        "\n",
        "class Book:\n",
        "    def __init__(self, title, author, pages):\n",
        "        print(\"A book is created\")\n",
        "        self.title = title\n",
        "        self.author = author\n",
        "        self.pages = pages\n",
        "\n",
        "    def __str__(self):\n",
        "        return f\"Title: {self.title} , author: {self.author}, pages: {self.pages}\"\n",
        "\n",
        "    def __len__(self):\n",
        "        return self.pages\n",
        "\n",
        "    def __del__(self):\n",
        "        print(f\"The book '{self.title}' by {self.author} has been destroyed\")\n",
        "        #this will print the above string when the del function is called and the class is deleted\n",
        "\n",
        "\n",
        "book = Book(\"Python Rocks!\", \"Jose Portilla\", 159)\n",
        "\n",
        "#NOTE: print(class_object) returns the string which is associated with that class object\n",
        "#this can be specified through the __str__ dunder method\n",
        "#see example below\n",
        "\n",
        "#Special Methods\n",
        "print(book)\n",
        "print(len(book))\n",
        "print(str(book))\n",
        "del book\n",
        "\n",
        "#The __init__(), __str__(), __len__() and __del__() methods\n",
        "#These special methods are defined by their use of underscores. They allow us to use Python specific functions on objects created through our class."
      ]
    },
    {
      "cell_type": "code",
      "execution_count": null,
      "id": "18c52432",
      "metadata": {
        "id": "18c52432"
      },
      "outputs": [],
      "source": [
        "#(shift+tab) to see class/method details on Jupyter notebooks\n",
        "#try:\n",
        "AshwinSingh.greeting?"
      ]
    },
    {
      "cell_type": "code",
      "execution_count": null,
      "id": "1f95c942",
      "metadata": {
        "id": "1f95c942"
      },
      "outputs": [],
      "source": [
        "open?"
      ]
    },
    {
      "cell_type": "code",
      "source": [],
      "metadata": {
        "id": "owEIANEIUEeF"
      },
      "id": "owEIANEIUEeF",
      "execution_count": null,
      "outputs": []
    },
    {
      "cell_type": "markdown",
      "source": [
        "# Misc"
      ],
      "metadata": {
        "id": "iCriZVdFUFro"
      },
      "id": "iCriZVdFUFro"
    },
    {
      "cell_type": "code",
      "execution_count": null,
      "id": "b77b9c8c",
      "metadata": {
        "id": "b77b9c8c"
      },
      "outputs": [],
      "source": [
        "str.split?"
      ]
    },
    {
      "cell_type": "code",
      "execution_count": null,
      "id": "0a37a020",
      "metadata": {
        "id": "0a37a020"
      },
      "outputs": [],
      "source": [
        "import numpy as np"
      ]
    },
    {
      "cell_type": "code",
      "execution_count": null,
      "id": "0314b02a",
      "metadata": {
        "colab": {
          "base_uri": "https://localhost:8080/"
        },
        "id": "0314b02a",
        "outputId": "b098895b-f0d9-47ee-aa85-81994fbbacba"
      },
      "outputs": [
        {
          "output_type": "stream",
          "name": "stdout",
          "text": [
            "Looking in indexes: https://pypi.org/simple, https://us-python.pkg.dev/colab-wheels/public/simple/\n",
            "Collecting IndianNameGenerator\n",
            "  Downloading IndianNameGenerator-4.0.0-py3-none-any.whl (4.1 kB)\n",
            "Installing collected packages: IndianNameGenerator\n",
            "Successfully installed IndianNameGenerator-4.0.0\n"
          ]
        }
      ],
      "source": [
        "!pip install IndianNameGenerator\n"
      ]
    },
    {
      "cell_type": "code",
      "execution_count": null,
      "id": "0bc2f58a",
      "metadata": {
        "id": "0bc2f58a"
      },
      "outputs": [],
      "source": [
        "from IndianNameGenerator import *"
      ]
    },
    {
      "cell_type": "code",
      "execution_count": null,
      "id": "dbe82126",
      "metadata": {
        "colab": {
          "base_uri": "https://localhost:8080/"
        },
        "id": "dbe82126",
        "outputId": "07b4269b-7022-4679-93a6-2f6358f2d4b9"
      },
      "outputs": [
        {
          "output_type": "execute_result",
          "data": {
            "text/plain": [
              "['Animal',\n",
              " 'AshwinSingh',\n",
              " 'Book',\n",
              " 'Cat',\n",
              " 'Dog',\n",
              " 'In',\n",
              " 'Names',\n",
              " 'Out',\n",
              " 'SnowLeopard',\n",
              " '_',\n",
              " '_12',\n",
              " '_24',\n",
              " '_3',\n",
              " '_5',\n",
              " '_7',\n",
              " '_8',\n",
              " '__',\n",
              " '___',\n",
              " '__builtin__',\n",
              " '__builtins__',\n",
              " '__doc__',\n",
              " '__loader__',\n",
              " '__name__',\n",
              " '__package__',\n",
              " '__spec__',\n",
              " '_dh',\n",
              " '_exit_code',\n",
              " '_i',\n",
              " '_i1',\n",
              " '_i10',\n",
              " '_i11',\n",
              " '_i12',\n",
              " '_i13',\n",
              " '_i14',\n",
              " '_i15',\n",
              " '_i16',\n",
              " '_i17',\n",
              " '_i18',\n",
              " '_i19',\n",
              " '_i2',\n",
              " '_i20',\n",
              " '_i21',\n",
              " '_i22',\n",
              " '_i23',\n",
              " '_i24',\n",
              " '_i25',\n",
              " '_i26',\n",
              " '_i27',\n",
              " '_i28',\n",
              " '_i29',\n",
              " '_i3',\n",
              " '_i30',\n",
              " '_i31',\n",
              " '_i32',\n",
              " '_i4',\n",
              " '_i5',\n",
              " '_i6',\n",
              " '_i7',\n",
              " '_i8',\n",
              " '_i9',\n",
              " '_ih',\n",
              " '_ii',\n",
              " '_iii',\n",
              " '_oh',\n",
              " 'exit',\n",
              " 'felix',\n",
              " 'femaleBengali',\n",
              " 'femaleGujarati',\n",
              " 'femaleMarathi',\n",
              " 'femaleNameBengali',\n",
              " 'femaleNameGujarati',\n",
              " 'femaleNameMarathi',\n",
              " 'femalePunjabi',\n",
              " 'femleSuffixPunjabi',\n",
              " 'fido',\n",
              " 'get_ipython',\n",
              " 'isis',\n",
              " 'mainNamePunjabi',\n",
              " 'maleBengali',\n",
              " 'maleGujarati',\n",
              " 'maleMarathi',\n",
              " 'maleNameBengali',\n",
              " 'maleNameGujarati',\n",
              " 'maleNameMarathi',\n",
              " 'malePunjabi',\n",
              " 'maleSuffixPunjabi',\n",
              " 'myanimal',\n",
              " 'mypet',\n",
              " 'niko',\n",
              " 'np',\n",
              " 'quit',\n",
              " 'random',\n",
              " 'randomBengali',\n",
              " 'randomGujarati',\n",
              " 'randomMarathi',\n",
              " 'randomPunjabi',\n",
              " 'unionNameBengali',\n",
              " 'unionNameGujarati',\n",
              " 'unionNameMarathi',\n",
              " 'unionSuffixPunjabi',\n",
              " 'var']"
            ]
          },
          "metadata": {},
          "execution_count": 32
        }
      ],
      "source": [
        "dir()"
      ]
    },
    {
      "cell_type": "code",
      "execution_count": null,
      "id": "66eb3e49",
      "metadata": {
        "colab": {
          "base_uri": "https://localhost:8080/",
          "height": 35
        },
        "id": "66eb3e49",
        "outputId": "739cd545-8b5e-4a61-ebe3-4af22cc9186f"
      },
      "outputs": [
        {
          "output_type": "execute_result",
          "data": {
            "text/plain": [
              "'Manjeet'"
            ],
            "application/vnd.google.colaboratory.intrinsic+json": {
              "type": "string"
            }
          },
          "metadata": {},
          "execution_count": 36
        }
      ],
      "source": [
        "randomPunjabi()"
      ]
    },
    {
      "cell_type": "code",
      "execution_count": null,
      "id": "8e5fcbc1",
      "metadata": {
        "colab": {
          "base_uri": "https://localhost:8080/",
          "height": 35
        },
        "id": "8e5fcbc1",
        "outputId": "a6253070-48fc-4954-fb79-d87960829daa"
      },
      "outputs": [
        {
          "output_type": "execute_result",
          "data": {
            "text/plain": [
              "'Harpreet'"
            ],
            "application/vnd.google.colaboratory.intrinsic+json": {
              "type": "string"
            }
          },
          "metadata": {},
          "execution_count": 37
        }
      ],
      "source": [
        "randomPunjabi()"
      ]
    },
    {
      "cell_type": "code",
      "source": [],
      "metadata": {
        "id": "K1C4QC4oUKlv"
      },
      "id": "K1C4QC4oUKlv",
      "execution_count": null,
      "outputs": []
    },
    {
      "cell_type": "markdown",
      "source": [
        "# Circle Class"
      ],
      "metadata": {
        "id": "3bGpiARuUNLV"
      },
      "id": "3bGpiARuUNLV"
    },
    {
      "cell_type": "code",
      "source": [
        "class Circle:\n",
        "\n",
        "  pi = 3.1415926535\n",
        "  area_formula = 'pi x (radius)^2'\n",
        "  circumference_formula = '2 x pi x radius'\n",
        "  fun_fact = 'Every point on a circle is equidistant from its center!'\n",
        "\n",
        "\n",
        "\n",
        "  def __init__(self, radius = 5, unit = 'cm', colour = 'blue'):\n",
        "\n",
        "    '''\n",
        "    DATA TYPES:\n",
        "    radius - float\n",
        "    colour - string\n",
        "    unit - string (cm, meter, km etc.)\n",
        "    '''\n",
        "    self.radius = radius\n",
        "    self.diameter = 2*radius\n",
        "    self.colour = colour\n",
        "    self.unit = unit\n",
        "\n",
        "  def get_area(self):\n",
        "    area = Circle.pi*(self.radius**2)\n",
        "    print(f'Area of the circle is {round(area,4)} {self.unit} sq')\n",
        "\n",
        "    return round(area,4)\n",
        "\n",
        "\n",
        "  def get_circumference(self):\n",
        "    circumference = 2*Circle.pi*self.radius\n",
        "    print(f'Circumference of the circle is {round(circumference,4)} {self.unit}')\n",
        "\n",
        "    return round(circumference,4)\n",
        "\n"
      ],
      "metadata": {
        "id": "dxvd2LiRUQIr"
      },
      "id": "dxvd2LiRUQIr",
      "execution_count": null,
      "outputs": []
    },
    {
      "cell_type": "code",
      "source": [
        "c0 = Circle()"
      ],
      "metadata": {
        "id": "Gq2KlXMAWca5"
      },
      "id": "Gq2KlXMAWca5",
      "execution_count": null,
      "outputs": []
    },
    {
      "cell_type": "code",
      "source": [
        "type(c0)"
      ],
      "metadata": {
        "colab": {
          "base_uri": "https://localhost:8080/"
        },
        "id": "mXErtU72WqXM",
        "outputId": "2c80dece-73ae-4f5e-be38-ea7df2e684ac"
      },
      "id": "mXErtU72WqXM",
      "execution_count": null,
      "outputs": [
        {
          "output_type": "execute_result",
          "data": {
            "text/plain": [
              "__main__.Circle"
            ]
          },
          "metadata": {},
          "execution_count": 19
        }
      ]
    },
    {
      "cell_type": "code",
      "source": [
        "c0?"
      ],
      "metadata": {
        "id": "b2BxzG2NWr8t"
      },
      "id": "b2BxzG2NWr8t",
      "execution_count": null,
      "outputs": []
    },
    {
      "cell_type": "code",
      "source": [
        "help(c0)"
      ],
      "metadata": {
        "colab": {
          "base_uri": "https://localhost:8080/"
        },
        "id": "64A4nXqwWtS9",
        "outputId": "8eafa4aa-b109-459f-8872-ef47974921e8"
      },
      "id": "64A4nXqwWtS9",
      "execution_count": null,
      "outputs": [
        {
          "output_type": "stream",
          "name": "stdout",
          "text": [
            "Help on Circle in module __main__ object:\n",
            "\n",
            "class Circle(builtins.object)\n",
            " |  Circle(radius=5, unit='cm', colour='blue')\n",
            " |  \n",
            " |  Methods defined here:\n",
            " |  \n",
            " |  __init__(self, radius=5, unit='cm', colour='blue')\n",
            " |      DATA TYPES:\n",
            " |      radius - float\n",
            " |      colour - string\n",
            " |      unit - string (cm, meter, km etc.)\n",
            " |  \n",
            " |  get_area(self)\n",
            " |  \n",
            " |  get_circumference(self)\n",
            " |  \n",
            " |  ----------------------------------------------------------------------\n",
            " |  Data descriptors defined here:\n",
            " |  \n",
            " |  __dict__\n",
            " |      dictionary for instance variables (if defined)\n",
            " |  \n",
            " |  __weakref__\n",
            " |      list of weak references to the object (if defined)\n",
            " |  \n",
            " |  ----------------------------------------------------------------------\n",
            " |  Data and other attributes defined here:\n",
            " |  \n",
            " |  area_formula = 'pi x (radius)^2'\n",
            " |  \n",
            " |  circumference_formula = '2 x pi x radius'\n",
            " |  \n",
            " |  pi = 3.1415926535\n",
            "\n"
          ]
        }
      ]
    },
    {
      "cell_type": "code",
      "source": [
        "area_c0 = c0.get_area()\n",
        "print(area_c0)"
      ],
      "metadata": {
        "colab": {
          "base_uri": "https://localhost:8080/"
        },
        "id": "ufrrpmRQWwZt",
        "outputId": "31eb2098-b594-4fa4-e7cb-1c6a04801601"
      },
      "id": "ufrrpmRQWwZt",
      "execution_count": null,
      "outputs": [
        {
          "output_type": "stream",
          "name": "stdout",
          "text": [
            "Area of the circle is 78.5398 cm sq\n",
            "78.5398\n"
          ]
        }
      ]
    },
    {
      "cell_type": "code",
      "source": [
        "circ_c0 = c0.get_circumference()\n",
        "print(circ_c0)"
      ],
      "metadata": {
        "colab": {
          "base_uri": "https://localhost:8080/"
        },
        "id": "iNjbwLGgW_5H",
        "outputId": "3cb3dc97-0a02-40b0-c473-c6e9f9c2d00f"
      },
      "id": "iNjbwLGgW_5H",
      "execution_count": null,
      "outputs": [
        {
          "output_type": "stream",
          "name": "stdout",
          "text": [
            "Circumference of the circle is 31.4159 cm\n",
            "31.4159\n"
          ]
        }
      ]
    },
    {
      "cell_type": "code",
      "source": [
        "c0.area_formula\n"
      ],
      "metadata": {
        "colab": {
          "base_uri": "https://localhost:8080/",
          "height": 35
        },
        "id": "y0eHOBgiXfwB",
        "outputId": "ff06a525-67ec-4351-f557-ffa447fa8adb"
      },
      "id": "y0eHOBgiXfwB",
      "execution_count": null,
      "outputs": [
        {
          "output_type": "execute_result",
          "data": {
            "text/plain": [
              "'pi x (radius)^2'"
            ],
            "application/vnd.google.colaboratory.intrinsic+json": {
              "type": "string"
            }
          },
          "metadata": {},
          "execution_count": 37
        }
      ]
    },
    {
      "cell_type": "code",
      "source": [
        "c0.circumference_formula"
      ],
      "metadata": {
        "colab": {
          "base_uri": "https://localhost:8080/",
          "height": 35
        },
        "id": "ms729Wg4Xlzi",
        "outputId": "3b102015-f377-4e07-a07a-02266a33102a"
      },
      "id": "ms729Wg4Xlzi",
      "execution_count": null,
      "outputs": [
        {
          "output_type": "execute_result",
          "data": {
            "text/plain": [
              "'2 x pi x radius'"
            ],
            "application/vnd.google.colaboratory.intrinsic+json": {
              "type": "string"
            }
          },
          "metadata": {},
          "execution_count": 38
        }
      ]
    },
    {
      "cell_type": "code",
      "source": [
        "c0.fun_fact"
      ],
      "metadata": {
        "id": "XqEoaVArXoLi",
        "colab": {
          "base_uri": "https://localhost:8080/",
          "height": 35
        },
        "outputId": "17eb17a8-7276-4e31-9703-a248487e69c8"
      },
      "id": "XqEoaVArXoLi",
      "execution_count": null,
      "outputs": [
        {
          "output_type": "execute_result",
          "data": {
            "text/plain": [
              "'Every point on a circle is equidistant from its center!'"
            ],
            "application/vnd.google.colaboratory.intrinsic+json": {
              "type": "string"
            }
          },
          "metadata": {},
          "execution_count": 45
        }
      ]
    },
    {
      "cell_type": "code",
      "source": [],
      "metadata": {
        "id": "b49P2Pq3Z4HX"
      },
      "id": "b49P2Pq3Z4HX",
      "execution_count": null,
      "outputs": []
    }
  ],
  "metadata": {
    "kernelspec": {
      "display_name": "Python 3 (ipykernel)",
      "language": "python",
      "name": "python3"
    },
    "language_info": {
      "codemirror_mode": {
        "name": "ipython",
        "version": 3
      },
      "file_extension": ".py",
      "mimetype": "text/x-python",
      "name": "python",
      "nbconvert_exporter": "python",
      "pygments_lexer": "ipython3",
      "version": "3.8.8"
    },
    "colab": {
      "provenance": []
    }
  },
  "nbformat": 4,
  "nbformat_minor": 5
}