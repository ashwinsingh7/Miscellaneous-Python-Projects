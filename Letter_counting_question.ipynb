{
  "nbformat": 4,
  "nbformat_minor": 0,
  "metadata": {
    "colab": {
      "provenance": [],
      "toc_visible": true
    },
    "kernelspec": {
      "name": "python3",
      "display_name": "Python 3"
    },
    "language_info": {
      "name": "python"
    }
  },
  "cells": [
    {
      "cell_type": "markdown",
      "source": [
        "link to post https://www.linkedin.com/posts/danielmoka_perfect-activity-7311280662303453186-qPJW?utm_source=share&utm_medium=member_desktop&rcm=ACoAACcbyKsBRjepOJuAcHRPk9XYVwV8byXInzk\n",
        "\n",
        "Input: \"aaaabbbcca\"\n",
        "\n",
        "Output: [('a',4),('b',3),('c',2),('a',1)]\n",
        "\n",
        "time allowed: 25 mins"
      ],
      "metadata": {
        "id": "wSooNLJaNn_a"
      }
    },
    {
      "cell_type": "code",
      "source": [
        "a = 'h'\n",
        "\n",
        "b = a[:]\n",
        "b"
      ],
      "metadata": {
        "colab": {
          "base_uri": "https://localhost:8080/",
          "height": 35
        },
        "id": "m5aJoYbrPWGJ",
        "outputId": "954d5266-abf4-4dbd-81a7-7389c60426df"
      },
      "execution_count": null,
      "outputs": [
        {
          "output_type": "execute_result",
          "data": {
            "text/plain": [
              "'h'"
            ],
            "application/vnd.google.colaboratory.intrinsic+json": {
              "type": "string"
            }
          },
          "metadata": {},
          "execution_count": 13
        }
      ]
    },
    {
      "cell_type": "code",
      "source": [
        "prev = None\n",
        "current = None\n",
        "\n",
        "seq = ''\n",
        "\n",
        "out = []\n",
        "\n",
        "for i in s:\n",
        "\n",
        "  if prev == None:\n",
        "    current = i\n",
        "    seq += current\n",
        "\n",
        "\n",
        "  else:\n",
        "    a = current[:]\n",
        "    prev = a\n",
        "    current = i\n",
        "\n",
        "    if current == prev:\n",
        "      seq += current\n",
        "\n",
        "    else:\n",
        "      out.append((prev,len(seq)))\n",
        "      seq = current\n",
        "\n",
        "\n",
        "\n",
        "\n",
        "\n",
        "\n",
        "\n",
        "\n",
        "\n",
        "\n"
      ],
      "metadata": {
        "id": "3Ex0whyyNpsg"
      },
      "execution_count": null,
      "outputs": []
    },
    {
      "cell_type": "code",
      "source": [
        "def func(s):\n",
        "\n",
        "  prev = None\n",
        "  current = None\n",
        "\n",
        "  seq = ''\n",
        "\n",
        "  out = []\n",
        "  last = s[-1]\n",
        "\n",
        "  for pos in range(len(s)):\n",
        "\n",
        "    i = s[pos]\n",
        "    #print(f'letter is {i}')\n",
        "\n",
        "    if prev == None:\n",
        "      current = i\n",
        "      prev = 'nothing'\n",
        "      seq += current\n",
        "      #print(f'current is {current}')\n",
        "      #print(f'seq is {seq}')\n",
        "\n",
        "      if pos == len(s)-1:\n",
        "        out.append((current,len(seq)))\n",
        "        return(out)\n",
        "\n",
        "\n",
        "    else:\n",
        "      a = current[:]\n",
        "      prev = a\n",
        "      current = i\n",
        "\n",
        "      if current == prev:\n",
        "        seq += current\n",
        "\n",
        "        if pos == len(s)-1:\n",
        "          out.append((prev,len(seq)))\n",
        "          return(out)\n",
        "\n",
        "      else:\n",
        "        #print(seq)\n",
        "        out += [(prev,len(seq))]\n",
        "        seq = current[:]\n",
        "\n",
        "        if pos == len(s)-1:\n",
        "          out.append((current,len(seq)))\n",
        "          return(out)\n",
        "\n",
        "\n",
        "#the above solution does not cover edge cases like the input string being empty or containgin non-alphabet characters,\\\n",
        "#but it captures the essence of the solution to the given problem\n",
        "\n",
        "\n"
      ],
      "metadata": {
        "id": "5k-IKtdVQyjK"
      },
      "execution_count": null,
      "outputs": []
    },
    {
      "cell_type": "code",
      "source": [
        "func('aaaabbbcca')"
      ],
      "metadata": {
        "colab": {
          "base_uri": "https://localhost:8080/"
        },
        "id": "qg0TED4jRBkx",
        "outputId": "05627041-4476-4a91-ab87-0ecb30e53b33"
      },
      "execution_count": null,
      "outputs": [
        {
          "output_type": "execute_result",
          "data": {
            "text/plain": [
              "[('a', 4), ('b', 3), ('c', 2), ('a', 1)]"
            ]
          },
          "metadata": {},
          "execution_count": 30
        }
      ]
    },
    {
      "cell_type": "code",
      "source": [],
      "metadata": {
        "id": "9O63TxKhRPHM"
      },
      "execution_count": null,
      "outputs": []
    }
  ]
}