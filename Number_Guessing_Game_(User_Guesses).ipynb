{
  "cells": [
    {
      "cell_type": "code",
      "execution_count": null,
      "id": "7f9b21ad",
      "metadata": {
        "colab": {
          "base_uri": "https://localhost:8080/",
          "height": 125
        },
        "id": "7f9b21ad",
        "outputId": "8a4c34cb-93eb-4c58-f804-9b57237d1f3a"
      },
      "outputs": [
        {
          "output_type": "execute_result",
          "data": {
            "text/plain": [
              "'\\nGUESSING GAME CHALLENGE\\n\\nLet\\'s use while loops to create a guessing game.\\n\\nThe Challenge:\\n\\nWrite a program that picks a random integer from 1 to 100, and has players guess the number. The rules are:\\n\\nIf a player\\'s guess is less than 1 or greater than 100, say \"OUT OF BOUNDS\"\\nOn a player\\'s first turn, if their guess is\\nwithin 10 of the number, return \"WARM!\"\\nfurther than 10 away from the number, return \"COLD!\"\\nOn all subsequent turns, if a guess is\\ncloser to the number than the previous guess return \"WARMER!\"\\nfarther from the number than the previous guess, return \"COLDER!\"\\nWhen the player\\'s guess equals the number, tell them they\\'ve guessed correctly and how many guesses it took!\\n'"
            ],
            "application/vnd.google.colaboratory.intrinsic+json": {
              "type": "string"
            }
          },
          "metadata": {},
          "execution_count": 1
        }
      ],
      "source": [
        "'''\n",
        "GUESSING GAME CHALLENGE\n",
        "\n",
        "Let's use while loops to create a guessing game.\n",
        "\n",
        "The Challenge:\n",
        "\n",
        "Write a program that picks a random integer from 1 to 100, and has players guess the number. The rules are:\n",
        "\n",
        "If a player's guess is less than 1 or greater than 100, say \"OUT OF BOUNDS\"\n",
        "On a player's first turn, if their guess is\n",
        "within 10 of the number, return \"WARM!\"\n",
        "further than 10 away from the number, return \"COLD!\"\n",
        "On all subsequent turns, if a guess is\n",
        "closer to the number than the previous guess return \"WARMER!\"\n",
        "farther from the number than the previous guess, return \"COLDER!\"\n",
        "When the player's guess equals the number, tell them they've guessed correctly and how many guesses it took!\n",
        "'''"
      ]
    },
    {
      "cell_type": "code",
      "execution_count": null,
      "id": "745df3d2",
      "metadata": {
        "colab": {
          "base_uri": "https://localhost:8080/"
        },
        "id": "745df3d2",
        "outputId": "a55659f1-2fc5-442b-9319-5c8f1f6fa000"
      },
      "outputs": [
        {
          "output_type": "stream",
          "name": "stdout",
          "text": [
            "average number of guesses taken by Ashwin to arrive at the correct number is 7.65\n"
          ]
        }
      ],
      "source": [
        "Ashwin_guess_list = [3, 11, 5, 12, 7, 9, 7, 7, 9, 7, 9, 5, 6, 9, 3, 9, 7, 7, 13, 8]\n",
        "sum_time = sum(Ashwin_guess_list)\n",
        "count_time = len(Ashwin_guess_list)\n",
        "avg_time = sum_time/count_time\n",
        "\n",
        "print(f'average number of guesses taken by Ashwin to arrive at the correct number is {avg_time}')\n",
        "\n"
      ]
    },
    {
      "cell_type": "code",
      "execution_count": null,
      "id": "0ce5dcf6",
      "metadata": {
        "id": "0ce5dcf6"
      },
      "outputs": [],
      "source": [
        "#initiating a list to keep track of number of guesses as the game is played by different players\n",
        "guess_record = [3, 11, 5, 12, 7, 9, 7, 7, 9, 7, 9, 5, 6, 9, 3, 9, 7, 7, 13, 10, 9, 10, 7, 6, 4, 3, 13, 12, 9, 9, 10, 11, 6, 4, 6]"
      ]
    },
    {
      "cell_type": "code",
      "execution_count": null,
      "id": "33758bba",
      "metadata": {
        "colab": {
          "base_uri": "https://localhost:8080/"
        },
        "id": "33758bba",
        "outputId": "405e0c39-d38a-4f87-e9ec-7f934223fc2e"
      },
      "outputs": [
        {
          "output_type": "stream",
          "name": "stdout",
          "text": [
            "Hey! Let's play a fun game:\n",
            "A random integer has been picked between 1 and 100 (inclusive), try to guess it!\n",
            "\n",
            "Instructions...\n",
            "\n",
            "WELCOME TO GUESS ME!\n",
            "I'm thinking of a number between 1 and 100\n",
            "If your guess is more than 10 away from my number, I'll tell you you're COLD\n",
            "If your guess is within 10 of my number, I'll tell you you're WARM\n",
            "If your guess is farther than your most recent guess, I'll say you're getting COLDER\n",
            "If your guess is closer than your most recent guess, I'll say you're getting WARMER\n",
            "LET'S PLAY!\n",
            "\n",
            "Guess number 1: 35\n",
            "COLD!\n",
            "\n",
            "Guess number 2: 76\n",
            "WARMER!\n",
            "\n",
            "Guess number 3: 90\n",
            "WARMER!\n",
            "\n",
            "Guess number 4: 95\n",
            "WARMER!\n",
            "\n",
            "Guess number 5: 99\n",
            "WARMER!\n",
            "\n",
            "Guess number 6: 98\n",
            "\n",
            "YOU HAVE GUESSED CORRECTLY! The number I thought of is 98\n",
            "You took 6 guesses, well done!\n",
            "\n",
            "The game has been played 36 times so far!\n",
            "You guessed faster than 80.55555555555556% of participants\n",
            "\n",
            "Thank you for playing the game :)\n"
          ]
        }
      ],
      "source": [
        "### picking a number that has to be guessed by the player\n",
        "from random import randint\n",
        "number = randint(0,100)\n",
        "\n",
        "print(\"Hey! Let's play a fun game:\\nA random integer has been picked between 1 and 100 (inclusive), try to guess it!\\n\")\n",
        "print('Instructions...\\n')\n",
        "\n",
        "print(\"WELCOME TO GUESS ME!\")\n",
        "print(\"I'm thinking of a number between 1 and 100\")\n",
        "print(\"If your guess is more than 10 away from my number, I'll tell you you're COLD\")\n",
        "print(\"If your guess is within 10 of my number, I'll tell you you're WARM\")\n",
        "print(\"If your guess is farther than your most recent guess, I'll say you're getting COLDER\")\n",
        "print(\"If your guess is closer than your most recent guess, I'll say you're getting WARMER\")\n",
        "print(\"LET'S PLAY!\\n\")\n",
        "\n",
        "#guess 1\n",
        "guess = float(input('Guess number 1: '))\n",
        "\n",
        "while guess not in range(1,101):\n",
        "    guess = float(input('OUT OF BOUNDS! Please guess again: '))\n",
        "\n",
        "if guess == number:\n",
        "        print('YOU HAVE GUESSED CORRECTLY!')\n",
        "        print('You took 1 guess, well done!')\n",
        "        count = 1\n",
        "\n",
        "elif abs(number - guess)<=10:\n",
        "        print('WARM!\\n')\n",
        "\n",
        "elif abs(number - guess)>10:\n",
        "        print('COLD!\\n')\n",
        "\n",
        "\n",
        "\n",
        "'''\n",
        "ANOTHER WAY TO DO IT (LONGER)\n",
        "\n",
        "if guess not in range(1,101):\n",
        "    guess = float(input('OUT OF BOUNDS! Please guess again: '))\n",
        "\n",
        "    if guess == number:\n",
        "        print('YOU HAVE GUESSED CORRECTLY!')\n",
        "        print('You took 1 guess, well done!')\n",
        "        guess_record.append(1)\n",
        "\n",
        "    elif abs(number - guess)<=10:\n",
        "        print('WARM!\\n')\n",
        "\n",
        "    elif abs(number - guess)>10:\n",
        "        print('COLD!\\n')\n",
        "\n",
        "\n",
        "elif guess == number:\n",
        "    print('YOU HAVE GUESSED CORRECTLY!')\n",
        "    print('You took 1 guess, well done!')\n",
        "    guess_record.append(1)\n",
        "\n",
        "elif abs(number - guess)<=10:\n",
        "    print('WARM!\\n')\n",
        "\n",
        "elif abs(number - guess)>10:\n",
        "    print('COLD!\\n')\n",
        "'''\n",
        "\n",
        "#subsequent guesses\n",
        "guess_list = []\n",
        "guess_list.append(guess)\n",
        "count = 1\n",
        "\n",
        "\n",
        "while guess != number:\n",
        "\n",
        "    count += 1\n",
        "    guess = float(input(f'Guess number {count}: '))\n",
        "\n",
        "    guess_list.append(guess)\n",
        "\n",
        "    if guess == number:\n",
        "        print(f'\\nYOU HAVE GUESSED CORRECTLY! The number I thought of is {number}')\n",
        "        print(f'You took {count} guesses, well done!')\n",
        "\n",
        "\n",
        "    elif abs(number - guess)<abs(number - guess_list[count-2]):\n",
        "        print('WARMER!\\n')\n",
        "\n",
        "    elif abs(number - guess)>abs(number - guess_list[count-2]):\n",
        "        print('COLDER!\\n')\n",
        "\n",
        "    elif abs(number - guess)==abs(number - guess_list[count-2]):\n",
        "        print('AS CLOSE AS THE PREVIOUS GUESS!\\n')\n",
        "\n",
        "\n",
        "less_than_count = []\n",
        "\n",
        "for i in guess_record:\n",
        "    if i<count:\n",
        "        less_than_count.append(i)\n",
        "\n",
        "percentile = (len(less_than_count)/len(guess_record))*100\n",
        "\n",
        "print(f'\\nThe game has been played {len(guess_record)} times so far!')\n",
        "print(f'You guessed faster than {100-percentile}% of participants')\n",
        "print('\\nThank you for playing the game :)')\n",
        "\n",
        "guess_record.append(count)"
      ]
    },
    {
      "cell_type": "code",
      "execution_count": null,
      "id": "3ad5e5d2",
      "metadata": {
        "id": "3ad5e5d2",
        "outputId": "a8bc6bd2-b155-495b-d8f5-4c952d5d04b9"
      },
      "outputs": [
        {
          "name": "stdout",
          "output_type": "stream",
          "text": [
            "[3, 11, 5, 12, 7, 9, 7, 7, 9, 7, 9, 5, 6, 9, 3, 9, 7, 7, 13, 10, 9, 10, 7, 6, 4, 3, 13, 12, 9, 9, 10, 11, 6, 4, 6]\n"
          ]
        }
      ],
      "source": [
        "print(guess_record)"
      ]
    },
    {
      "cell_type": "code",
      "execution_count": null,
      "id": "a29cf0f0",
      "metadata": {
        "id": "a29cf0f0",
        "outputId": "b3854000-d419-4d51-adfa-8d0bfb4006ad"
      },
      "outputs": [
        {
          "data": {
            "text/plain": [
              "35"
            ]
          },
          "execution_count": 6,
          "metadata": {},
          "output_type": "execute_result"
        }
      ],
      "source": [
        "len(guess_record)\n"
      ]
    },
    {
      "cell_type": "code",
      "execution_count": null,
      "id": "9b41c00f",
      "metadata": {
        "id": "9b41c00f",
        "outputId": "384fe621-0ce1-41b8-cf38-ed2ffb598fee"
      },
      "outputs": [
        {
          "data": {
            "text/plain": [
              "20.588235294117645"
            ]
          },
          "execution_count": 7,
          "metadata": {},
          "output_type": "execute_result"
        }
      ],
      "source": [
        "percentile\n"
      ]
    },
    {
      "cell_type": "code",
      "execution_count": null,
      "id": "adf652df",
      "metadata": {
        "id": "adf652df",
        "outputId": "fd776905-0cf6-4d55-8bae-84d74e5f3a0c"
      },
      "outputs": [
        {
          "data": {
            "text/plain": [
              "[3, 5, 5, 3, 4, 3, 4]"
            ]
          },
          "execution_count": 8,
          "metadata": {},
          "output_type": "execute_result"
        }
      ],
      "source": [
        "less_than_count\n"
      ]
    },
    {
      "cell_type": "code",
      "execution_count": null,
      "id": "3994257f",
      "metadata": {
        "id": "3994257f"
      },
      "outputs": [],
      "source": []
    }
  ],
  "metadata": {
    "kernelspec": {
      "display_name": "Python 3",
      "language": "python",
      "name": "python3"
    },
    "language_info": {
      "codemirror_mode": {
        "name": "ipython",
        "version": 3
      },
      "file_extension": ".py",
      "mimetype": "text/x-python",
      "name": "python",
      "nbconvert_exporter": "python",
      "pygments_lexer": "ipython3",
      "version": "3.8.8"
    },
    "colab": {
      "provenance": []
    }
  },
  "nbformat": 4,
  "nbformat_minor": 5
}