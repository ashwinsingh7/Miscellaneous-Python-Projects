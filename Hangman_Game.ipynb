{
  "nbformat": 4,
  "nbformat_minor": 0,
  "metadata": {
    "colab": {
      "provenance": []
    },
    "kernelspec": {
      "name": "python3",
      "display_name": "Python 3"
    },
    "language_info": {
      "name": "python"
    }
  },
  "cells": [
    {
      "cell_type": "markdown",
      "source": [
        "# HELPER FUNCTIONS"
      ],
      "metadata": {
        "id": "-EY__VmGTk9Y"
      }
    },
    {
      "cell_type": "code",
      "source": [
        "import random\n",
        "\n",
        "WORDLIST_FILENAME = \"words.txt\"\n",
        "\n",
        "def loadWords():\n",
        "    \"\"\"\n",
        "    Returns a list of valid words. Words are strings of lowercase letters.\n",
        "\n",
        "    Depending on the size of the word list, this function may\n",
        "    take a while to finish.\n",
        "    \"\"\"\n",
        "    print(\"Loading word list from file...\")\n",
        "    # inFile: file\n",
        "    inFile = open(WORDLIST_FILENAME, 'r')\n",
        "    # line: string\n",
        "    line = inFile.readline()\n",
        "    # wordlist: list of strings\n",
        "    wordlist = line.split()\n",
        "    print(\"  \", len(wordlist), \"words loaded.\")\n",
        "    return wordlist\n",
        "\n",
        "def chooseWord(wordlist):\n",
        "    \"\"\"\n",
        "    wordlist (list): list of words (strings)\n",
        "\n",
        "    Returns a word from wordlist at random\n",
        "    \"\"\"\n",
        "    return random.choice(wordlist)\n",
        "\n",
        "wordlist = loadWords()"
      ],
      "metadata": {
        "colab": {
          "base_uri": "https://localhost:8080/"
        },
        "id": "XKEOCtuBTow7",
        "outputId": "98b4cb79-4dd7-4d50-8b8d-8dd1d8890053"
      },
      "execution_count": null,
      "outputs": [
        {
          "output_type": "stream",
          "name": "stdout",
          "text": [
            "Loading word list from file...\n",
            "   55909 words loaded.\n"
          ]
        }
      ]
    },
    {
      "cell_type": "code",
      "source": [
        "def isWordGuessed(secretWord, lettersGuessed):\n",
        "\n",
        "  '''\n",
        "  secretWord: string, the word the user is guessing\n",
        "  lettersGuessed: list, what letters have been guessed so far\n",
        "  returns: boolean, True if all the letters of secretWord are in lettersGuessed;\n",
        "  False otherwise\n",
        "  '''\n",
        "\n",
        "  word_guessed = set(secretWord).issubset(set(lettersGuessed))\n",
        "\n",
        "  return word_guessed\n",
        "\n",
        "'''\n",
        "  word_letters = list(secretWord)\n",
        "\n",
        "  word_guessed = True\n",
        "\n",
        "  for letter in word_letters:\n",
        "    if letter not in lettersGuessed:\n",
        "      word_guessed = False\n",
        "\n",
        "  return word_guessed\n",
        "'''\n",
        "\n",
        "#one-liner challenge\n"
      ],
      "metadata": {
        "colab": {
          "base_uri": "https://localhost:8080/",
          "height": 53
        },
        "id": "2owPOlUhTu8O",
        "outputId": "c1a66f2b-74b5-46fc-9e59-bc7186a175e4"
      },
      "execution_count": null,
      "outputs": [
        {
          "output_type": "execute_result",
          "data": {
            "text/plain": [
              "'\\n  word_letters = list(secretWord)\\n\\n  word_guessed = True\\n\\n  for letter in word_letters:\\n    if letter not in lettersGuessed:\\n      word_guessed = False\\n\\n  return word_guessed\\n'"
            ],
            "application/vnd.google.colaboratory.intrinsic+json": {
              "type": "string"
            }
          },
          "metadata": {},
          "execution_count": 7
        }
      ]
    },
    {
      "cell_type": "code",
      "source": [
        "def getGuessedWord(secretWord, lettersGuessed):\n",
        "    '''\n",
        "    secretWord: string, the word the user is guessing\n",
        "    lettersGuessed: list, what letters have been guessed so far\n",
        "    returns: string, comprised of letters and underscores that represents\n",
        "      what letters in secretWord have been guessed so far.\n",
        "    '''\n",
        "\n",
        "    return ' '.join([letter if letter in lettersGuessed else '_' for letter in secretWord])\n"
      ],
      "metadata": {
        "id": "P6U-YlUWT0m7"
      },
      "execution_count": null,
      "outputs": []
    },
    {
      "cell_type": "code",
      "source": [
        "def getAvailableLetters(lettersGuessed):\n",
        "  '''\n",
        "  lettersGuessed: list, what letters have been guessed so far\n",
        "  returns: string, comprised of letters that represents what letters have not\n",
        "  yet been guessed.\n",
        "  '''\n",
        "  import string\n",
        "  return ''.join([i for i in list(string.ascii_lowercase) if i not in lettersGuessed])\n",
        "\n"
      ],
      "metadata": {
        "id": "iBsmUJBwT6lA"
      },
      "execution_count": null,
      "outputs": []
    },
    {
      "cell_type": "markdown",
      "source": [
        "# HANGMAN"
      ],
      "metadata": {
        "id": "RJdTQGsXTlWW"
      }
    },
    {
      "cell_type": "code",
      "source": [
        "def hangman(secretWord):\n",
        "    '''\n",
        "\n",
        "    '''\n",
        "    #information that needs to be tracked\n",
        "\n",
        "    import string\n",
        "\n",
        "    letters_guessed = [] #list of letters that have been guessed so far\n",
        "    mistakes_made = 0 #number of incorrect guesses so far\n",
        "\n",
        "    #welcome to Hangman\n",
        "    len_secretword = len(secretWord)\n",
        "    print('Welcome to the game Hangman!\\nI am thinking of a word that is '+str(len_secretword)+' letters long.')\n",
        "    print('-------')\n",
        "\n",
        "    game_won = False\n",
        "\n",
        "\n",
        "    while mistakes_made < 8:\n",
        "\n",
        "\n",
        "      print('You have '+str(8-mistakes_made)+' guesse(s) left.')\n",
        "      print('Available letters: '+getAvailableLetters(letters_guessed))\n",
        "\n",
        "      guess = input('Please guess a letter: ').lower()\n",
        "\n",
        "      if guess in letters_guessed:\n",
        "        print('Oops! You have already guessed that letter: '+getGuessedWord(secretWord,letters_guessed))\n",
        "        print('-------')\n",
        "        continue\n",
        "\n",
        "      else:\n",
        "\n",
        "        if guess in secretWord:\n",
        "\n",
        "          letters_guessed += guess\n",
        "          print('Good guess: '+getGuessedWord(secretWord,letters_guessed))\n",
        "          print('-------')\n",
        "\n",
        "          if isWordGuessed(secretWord,letters_guessed):\n",
        "            print('Congratulations, you won!')\n",
        "            game_won = True\n",
        "            break\n",
        "\n",
        "\n",
        "        else:\n",
        "\n",
        "            letters_guessed += guess\n",
        "            print('Oops! That letter is not in my word: '+getGuessedWord(secretWord,letters_guessed))\n",
        "            print('-------')\n",
        "            mistakes_made += 1\n",
        "\n",
        "\n",
        "\n",
        "\n",
        "    if not game_won:\n",
        "      print('Sorry, you ran out of guesses. The word was '+secretWord+'.')"
      ],
      "metadata": {
        "id": "5U2PvvGLUAyF"
      },
      "execution_count": null,
      "outputs": []
    },
    {
      "cell_type": "code",
      "source": [
        "\n",
        "\n",
        "#PLAYING THE GAME\n",
        "\n",
        "secretWord = chooseWord(wordlist).lower()\n",
        "hangman(secretWord)"
      ],
      "metadata": {
        "colab": {
          "base_uri": "https://localhost:8080/"
        },
        "id": "msiJKOKeUMa0",
        "outputId": "c2e625a4-4a1f-4e6a-f494-f76ac7681731"
      },
      "execution_count": null,
      "outputs": [
        {
          "output_type": "stream",
          "name": "stdout",
          "text": [
            "Welcome to the game Hangman!\n",
            "I am thinking of a word that is 5 letters long.\n",
            "-------\n",
            "You have 8 guesse(s) left.\n",
            "Available letters: abcdefghijklmnopqrstuvwxyz\n",
            "Please guess a letter: a\n",
            "Oops! That letter is not in my word: _ _ _ _ _\n",
            "-------\n",
            "You have 7 guesse(s) left.\n",
            "Available letters: bcdefghijklmnopqrstuvwxyz\n",
            "Please guess a letter: e\n",
            "Oops! That letter is not in my word: _ _ _ _ _\n",
            "-------\n",
            "You have 6 guesse(s) left.\n",
            "Available letters: bcdfghijklmnopqrstuvwxyz\n",
            "Please guess a letter: i\n",
            "Good guess: _ i _ _ _\n",
            "-------\n",
            "You have 6 guesse(s) left.\n",
            "Available letters: bcdfghjklmnopqrstuvwxyz\n",
            "Please guess a letter: k\n",
            "Oops! That letter is not in my word: _ i _ _ _\n",
            "-------\n",
            "You have 5 guesse(s) left.\n",
            "Available letters: bcdfghjlmnopqrstuvwxyz\n",
            "Please guess a letter: p\n",
            "Oops! That letter is not in my word: _ i _ _ _\n",
            "-------\n",
            "You have 4 guesse(s) left.\n",
            "Available letters: bcdfghjlmnoqrstuvwxyz\n",
            "Please guess a letter: l\n",
            "Good guess: l i _ _ _\n",
            "-------\n",
            "You have 4 guesse(s) left.\n",
            "Available letters: bcdfghjmnoqrstuvwxyz\n",
            "Please guess a letter: n\n",
            "Good guess: l i n _ _\n",
            "-------\n",
            "You have 4 guesse(s) left.\n",
            "Available letters: bcdfghjmoqrstuvwxyz\n",
            "Please guess a letter: c\n",
            "Oops! That letter is not in my word: l i n _ _\n",
            "-------\n",
            "You have 3 guesse(s) left.\n",
            "Available letters: bdfghjmoqrstuvwxyz\n",
            "Please guess a letter: s\n",
            "Oops! That letter is not in my word: l i n _ _\n",
            "-------\n",
            "You have 2 guesse(s) left.\n",
            "Available letters: bdfghjmoqrtuvwxyz\n",
            "Please guess a letter: t\n",
            "Oops! That letter is not in my word: l i n _ _\n",
            "-------\n",
            "You have 1 guesse(s) left.\n",
            "Available letters: bdfghjmoqruvwxyz\n",
            "Please guess a letter: d\n",
            "Oops! That letter is not in my word: l i n _ _\n",
            "-------\n",
            "Sorry, you ran out of guesses. The word was lingo.\n"
          ]
        }
      ]
    },
    {
      "cell_type": "code",
      "source": [],
      "metadata": {
        "id": "VtCiuP2hPKJ0"
      },
      "execution_count": null,
      "outputs": []
    }
  ]
}